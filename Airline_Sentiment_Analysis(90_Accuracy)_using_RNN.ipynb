{
  "metadata": {
    "kernelspec": {
      "display_name": "Python 3",
      "name": "python3"
    },
    "language_info": {
      "pygments_lexer": "ipython3",
      "nbconvert_exporter": "python",
      "version": "3.6.4",
      "file_extension": ".py",
      "codemirror_mode": {
        "name": "ipython",
        "version": 3
      },
      "name": "python",
      "mimetype": "text/x-python"
    },
    "colab": {
      "name": "Airline Sentiment Analysis(90% Accuracy) using RNN",
      "provenance": [],
      "gpuType": "T4"
    },
    "accelerator": "GPU"
  },
  "nbformat_minor": 0,
  "nbformat": 4,
  "cells": [
    {
      "source": [
        "\n",
        "# IMPORTANT: RUN THIS CELL IN ORDER TO IMPORT YOUR KAGGLE DATA SOURCES\n",
        "# TO THE CORRECT LOCATION (/kaggle/input) IN YOUR NOTEBOOK,\n",
        "# THEN FEEL FREE TO DELETE THIS CELL.\n",
        "# NOTE: THIS NOTEBOOK ENVIRONMENT DIFFERS FROM KAGGLE'S PYTHON\n",
        "# ENVIRONMENT SO THERE MAY BE MISSING LIBRARIES USED BY YOUR\n",
        "# NOTEBOOK.\n",
        "\n",
        "import os\n",
        "import sys\n",
        "from tempfile import NamedTemporaryFile\n",
        "from urllib.request import urlopen\n",
        "from urllib.parse import unquote, urlparse\n",
        "from urllib.error import HTTPError\n",
        "from zipfile import ZipFile\n",
        "import tarfile\n",
        "import shutil\n",
        "\n",
        "CHUNK_SIZE = 40960\n",
        "DATA_SOURCE_MAPPING = ':https%3A%2F%2Fstorage.googleapis.com%2Fkaggle-data-sets%2F17%2F742210%2Fbundle%2Farchive.zip%3FX-Goog-Algorithm%3DGOOG4-RSA-SHA256%26X-Goog-Credential%3Dgcp-kaggle-com%2540kaggle-161607.iam.gserviceaccount.com%252F20240722%252Fauto%252Fstorage%252Fgoog4_request%26X-Goog-Date%3D20240722T170156Z%26X-Goog-Expires%3D259200%26X-Goog-SignedHeaders%3Dhost%26X-Goog-Signature%3D31d4133bfc861f8328d31b0cfca04633c2685aa56cd09271b9fb00e3082a2c6449304a3bcf81b49c041339094de86dbb08c2242fc549bba9a2a9390bc8e08b6a9ac90680082d74dd01923503eb7a5f132c5fc4b04f1de56a5329f7e3a720d989bbac596c0b2897b7a99c47c56c08afb9eb8ce882789ef4125007e245e3baef4c3913b4d7f2bee6be871a780ae90fa3d8acdb017365d0746b0e053b4aad81dc39badca59489db3532879b4b80902d123a86fa25302ab641d493317b179f8382d37fcd29415078262de31d03319eef11ce6be16c065dc8e24c6c6ac90e5abd1d2f46fce8ddd6562170641dfe94f29a6bf668205d2128052638729fb7d6b3959534'\n",
        "\n",
        "KAGGLE_INPUT_PATH='/kaggle/input'\n",
        "KAGGLE_WORKING_PATH='/kaggle/working'\n",
        "KAGGLE_SYMLINK='kaggle'\n",
        "\n",
        "!umount /kaggle/input/ 2> /dev/null\n",
        "shutil.rmtree('/kaggle/input', ignore_errors=True)\n",
        "os.makedirs(KAGGLE_INPUT_PATH, 0o777, exist_ok=True)\n",
        "os.makedirs(KAGGLE_WORKING_PATH, 0o777, exist_ok=True)\n",
        "\n",
        "try:\n",
        "  os.symlink(KAGGLE_INPUT_PATH, os.path.join(\"..\", 'input'), target_is_directory=True)\n",
        "except FileExistsError:\n",
        "  pass\n",
        "try:\n",
        "  os.symlink(KAGGLE_WORKING_PATH, os.path.join(\"..\", 'working'), target_is_directory=True)\n",
        "except FileExistsError:\n",
        "  pass\n",
        "\n",
        "for data_source_mapping in DATA_SOURCE_MAPPING.split(','):\n",
        "    directory, download_url_encoded = data_source_mapping.split(':')\n",
        "    download_url = unquote(download_url_encoded)\n",
        "    filename = urlparse(download_url).path\n",
        "    destination_path = os.path.join(KAGGLE_INPUT_PATH, directory)\n",
        "    try:\n",
        "        with urlopen(download_url) as fileres, NamedTemporaryFile() as tfile:\n",
        "            total_length = fileres.headers['content-length']\n",
        "            print(f'Downloading {directory}, {total_length} bytes compressed')\n",
        "            dl = 0\n",
        "            data = fileres.read(CHUNK_SIZE)\n",
        "            while len(data) > 0:\n",
        "                dl += len(data)\n",
        "                tfile.write(data)\n",
        "                done = int(50 * dl / int(total_length))\n",
        "                sys.stdout.write(f\"\\r[{'=' * done}{' ' * (50-done)}] {dl} bytes downloaded\")\n",
        "                sys.stdout.flush()\n",
        "                data = fileres.read(CHUNK_SIZE)\n",
        "            if filename.endswith('.zip'):\n",
        "              with ZipFile(tfile) as zfile:\n",
        "                zfile.extractall(destination_path)\n",
        "            else:\n",
        "              with tarfile.open(tfile.name) as tarfile:\n",
        "                tarfile.extractall(destination_path)\n",
        "            print(f'\\nDownloaded and uncompressed: {directory}')\n",
        "    except HTTPError as e:\n",
        "        print(f'Failed to load (likely expired) {download_url} to path {destination_path}')\n",
        "        continue\n",
        "    except OSError as e:\n",
        "        print(f'Failed to load {download_url} to path {destination_path}')\n",
        "        continue\n",
        "\n",
        "print('Data source import complete.')\n"
      ],
      "metadata": {
        "id": "LqhXo1VEZJD9",
        "outputId": "2567ada2-2768-47fc-ccff-06ed8ee1c786",
        "colab": {
          "base_uri": "https://localhost:8080/"
        }
      },
      "cell_type": "code",
      "outputs": [
        {
          "output_type": "stream",
          "name": "stdout",
          "text": [
            "Downloading , 2678605 bytes compressed\n",
            "[==================================================] 2678605 bytes downloaded\n",
            "Downloaded and uncompressed: \n",
            "Data source import complete.\n"
          ]
        }
      ],
      "execution_count": 1
    },
    {
      "cell_type": "markdown",
      "source": [
        "# **A Bigineer NoteBook on NLP with RNN**\n",
        "# **Kindly Upvote**"
      ],
      "metadata": {
        "id": "HUJ6G6pcZJED"
      }
    },
    {
      "cell_type": "markdown",
      "source": [
        "**Airline Sentiment Analysi**s is a natural language processing (NLP) task that involves identifying the sentiment expressed in a piece of text about an airline. Recurrent Neural Networks (RNNs) are a type of neural network that are particularly well-suited to modeling sequences of data, such as natural language text. In this task, we can use RNNs to classify tweets about airlines into positive, negative or neutral categories.\n",
        "\n",
        "Here is a high-level overview of the steps involved in building an airline sentiment analysis model using RNNs:\n",
        "\n",
        "1. Data Preprocessing: The first step is to prepare the data for training the RNN. This involves cleaning the text data by removing stop words, special characters, and URLs. We also tokenize the text data and convert it into numerical format.\n",
        "\n",
        "2. Feature Extraction: Next, we convert the tokenized text data into a fixed-length vector using techniques such as Word2Vec or GloVe.\n",
        "\n",
        "3. Model Building: We can build a Recurrent Neural Network (RNN) model to classify the sentiment of the airline tweets. We can use architectures such as Long Short-Term Memory (LSTM) or Gated Recurrent Units (GRU) to model the sequence of the text data.\n",
        "\n",
        "4. Model Training: We can train the RNN model on the preprocessed and feature-extracted data. We can use techniques such as cross-validation to evaluate the model's performance.\n",
        "\n",
        "5. Model Testing: We can test the trained model on new, unseen data to evaluate its performance.\n",
        "\n",
        "**Here are the steps in more detail:**\n",
        "\n",
        "**Data Preprocessing:**\n",
        "We start by importing the necessary libraries for data cleaning and tokenization, such as NLTK and spaCy. We then load the airline tweets dataset and perform some initial data exploration. We can also remove any irrelevant or noisy data such as tweets that contain links or mentions of other Twitter users. After that, we perform text cleaning by removing stop words, special characters, and other noise from the text data. Finally, we tokenize the text data and convert it into numerical format for feature extraction.\n",
        "\n",
        "**Feature Extraction:**\n",
        "We can extract features from the tokenized text data using techniques such as Word2Vec or GloVe. These methods convert the text data into fixed-length vectors that can be fed into the RNN model. We can also use techniques such as tf-idf or bag-of-words to represent the text data.\n",
        "\n",
        "**Model Building:**\n",
        "We can build a Recurrent Neural Network (RNN) model to classify the sentiment of the airline tweets. We can use architectures such as Long Short-Term Memory (LSTM) or Gated Recurrent Units (GRU) to model the sequence of the text data. We can also use techniques such as dropout and batch normalization to regularize the model and prevent overfitting.\n",
        "\n",
        "**Model Training:**\n",
        "We can train the RNN model on the preprocessed and feature-extracted data. We can use techniques such as cross-validation to evaluate the model's performance. We can also use techniques such as early stopping to prevent the model from overfitting the training data.\n",
        "\n",
        "**Model Testing:**\n",
        "We can test the trained model on new, unseen data to evaluate its performance. We can use metrics such as accuracy, precision, recall, and F1 score to evaluate the model's performance on the test data. We can also use techniques such as confusion matrix and ROC curve to analyze the model's performance in more detail.\n",
        "\n",
        "In summary, building an airline sentiment analysis model using RNNs involves data preprocessing, feature extraction, model building, model training, and model testing. With the right techniques and tools, we can build a robust and accurate model that can classify the sentiment of airline tweets with high accuracy."
      ],
      "metadata": {
        "id": "r9sXqB2uZJEF"
      }
    },
    {
      "cell_type": "markdown",
      "source": [
        "# **Import the Neccesary Libraries**"
      ],
      "metadata": {
        "id": "a4ivQ4ErZJEG"
      }
    },
    {
      "cell_type": "code",
      "source": [
        "import re\n",
        "import warnings\n",
        "import itertools\n",
        "import numpy as np\n",
        "import pandas as pd\n",
        "import seaborn as sns\n",
        "import tensorflow as tf\n",
        "import matplotlib.pyplot as plt\n",
        "from keras.preprocessing.text import Tokenizer\n",
        "from keras.preprocessing.sequence import pad_sequences\n",
        "from sklearn.model_selection import train_test_split\n",
        "from sklearn.metrics import confusion_matrix\n",
        "warnings.filterwarnings(\"ignore\", category=FutureWarning)"
      ],
      "metadata": {
        "_uuid": "8f2839f25d086af736a60e9eeb907d3b93b6e0e5",
        "_cell_guid": "b1076dfc-b9ad-4769-8c92-a6c4dae69d19",
        "execution": {
          "iopub.status.busy": "2023-03-01T15:53:16.821009Z",
          "iopub.execute_input": "2023-03-01T15:53:16.821313Z",
          "iopub.status.idle": "2023-03-01T15:53:19.698105Z",
          "shell.execute_reply.started": "2023-03-01T15:53:16.82126Z",
          "shell.execute_reply": "2023-03-01T15:53:19.697176Z"
        },
        "trusted": true,
        "id": "u_FY0BM_ZJEH"
      },
      "execution_count": 2,
      "outputs": []
    },
    {
      "cell_type": "markdown",
      "source": [
        "# Reading the Dataset"
      ],
      "metadata": {
        "id": "7tM-p13UZJEJ"
      }
    },
    {
      "cell_type": "code",
      "source": [
        "data = pd.read_csv(\"../input/Tweets.csv\")\n",
        "df = data[[\"text\",\"airline_sentiment\"]]\n",
        "df['text'] = df['text'].map(lambda x: x.lstrip('@VirginAmerica@UnitedAir@Southwestairline@DeltaAir@USAirways@American').rstrip('@'))"
      ],
      "metadata": {
        "_uuid": "d629ff2d2480ee46fbb7e2d37f6b5fab8052498a",
        "_cell_guid": "79c7e3d0-c299-4dcb-8224-4455121ee9b0",
        "execution": {
          "iopub.status.busy": "2023-03-01T15:53:19.700166Z",
          "iopub.execute_input": "2023-03-01T15:53:19.700482Z",
          "iopub.status.idle": "2023-03-01T15:53:19.945383Z",
          "shell.execute_reply.started": "2023-03-01T15:53:19.700432Z",
          "shell.execute_reply": "2023-03-01T15:53:19.944242Z"
        },
        "trusted": true,
        "id": "HbPK531iZJEJ",
        "outputId": "b75cf13d-e657-4bd6-ee66-db51cf463d76",
        "colab": {
          "base_uri": "https://localhost:8080/"
        }
      },
      "execution_count": 3,
      "outputs": [
        {
          "output_type": "stream",
          "name": "stderr",
          "text": [
            "<ipython-input-3-a917ea3854bf>:3: SettingWithCopyWarning: \n",
            "A value is trying to be set on a copy of a slice from a DataFrame.\n",
            "Try using .loc[row_indexer,col_indexer] = value instead\n",
            "\n",
            "See the caveats in the documentation: https://pandas.pydata.org/pandas-docs/stable/user_guide/indexing.html#returning-a-view-versus-a-copy\n",
            "  df['text'] = df['text'].map(lambda x: x.lstrip('@VirginAmerica@UnitedAir@Southwestairline@DeltaAir@USAirways@American').rstrip('@'))\n"
          ]
        }
      ]
    },
    {
      "cell_type": "code",
      "source": [
        "df"
      ],
      "metadata": {
        "execution": {
          "iopub.status.busy": "2023-03-01T15:53:19.946846Z",
          "iopub.execute_input": "2023-03-01T15:53:19.947344Z",
          "iopub.status.idle": "2023-03-01T15:53:19.975854Z",
          "shell.execute_reply.started": "2023-03-01T15:53:19.947287Z",
          "shell.execute_reply": "2023-03-01T15:53:19.974981Z"
        },
        "trusted": true,
        "id": "EFBXNN2qZJEK",
        "outputId": "1e49796b-7dea-46ce-e299-a3f4477a831d",
        "colab": {
          "base_uri": "https://localhost:8080/",
          "height": 424
        }
      },
      "execution_count": 4,
      "outputs": [
        {
          "output_type": "execute_result",
          "data": {
            "text/plain": [
              "                                                    text airline_sentiment\n",
              "0                                   What @dhepburn said.           neutral\n",
              "1       plus you've added commercials to the experien...          positive\n",
              "2       I didn't today... Must mean I need to take an...           neutral\n",
              "3       it's really aggressive to blast obnoxious \"en...          negative\n",
              "4               and it's a really big bad thing about it          negative\n",
              "...                                                  ...               ...\n",
              "14635   thank you we got on a different flight to Chi...          positive\n",
              "14636   leaving over 20 minutes Late Flight. No warni...          negative\n",
              "14637    Please bring American Airlines to #BlackBerry10           neutral\n",
              "14638   you have my money, you change my flight, and ...          negative\n",
              "14639   we have 8 ppl so we need 2 know how many seat...           neutral\n",
              "\n",
              "[14640 rows x 2 columns]"
            ],
            "text/html": [
              "\n",
              "  <div id=\"df-58b6a4cf-a3cf-4b99-bcd5-a170ea66aca9\" class=\"colab-df-container\">\n",
              "    <div>\n",
              "<style scoped>\n",
              "    .dataframe tbody tr th:only-of-type {\n",
              "        vertical-align: middle;\n",
              "    }\n",
              "\n",
              "    .dataframe tbody tr th {\n",
              "        vertical-align: top;\n",
              "    }\n",
              "\n",
              "    .dataframe thead th {\n",
              "        text-align: right;\n",
              "    }\n",
              "</style>\n",
              "<table border=\"1\" class=\"dataframe\">\n",
              "  <thead>\n",
              "    <tr style=\"text-align: right;\">\n",
              "      <th></th>\n",
              "      <th>text</th>\n",
              "      <th>airline_sentiment</th>\n",
              "    </tr>\n",
              "  </thead>\n",
              "  <tbody>\n",
              "    <tr>\n",
              "      <th>0</th>\n",
              "      <td>What @dhepburn said.</td>\n",
              "      <td>neutral</td>\n",
              "    </tr>\n",
              "    <tr>\n",
              "      <th>1</th>\n",
              "      <td>plus you've added commercials to the experien...</td>\n",
              "      <td>positive</td>\n",
              "    </tr>\n",
              "    <tr>\n",
              "      <th>2</th>\n",
              "      <td>I didn't today... Must mean I need to take an...</td>\n",
              "      <td>neutral</td>\n",
              "    </tr>\n",
              "    <tr>\n",
              "      <th>3</th>\n",
              "      <td>it's really aggressive to blast obnoxious \"en...</td>\n",
              "      <td>negative</td>\n",
              "    </tr>\n",
              "    <tr>\n",
              "      <th>4</th>\n",
              "      <td>and it's a really big bad thing about it</td>\n",
              "      <td>negative</td>\n",
              "    </tr>\n",
              "    <tr>\n",
              "      <th>...</th>\n",
              "      <td>...</td>\n",
              "      <td>...</td>\n",
              "    </tr>\n",
              "    <tr>\n",
              "      <th>14635</th>\n",
              "      <td>thank you we got on a different flight to Chi...</td>\n",
              "      <td>positive</td>\n",
              "    </tr>\n",
              "    <tr>\n",
              "      <th>14636</th>\n",
              "      <td>leaving over 20 minutes Late Flight. No warni...</td>\n",
              "      <td>negative</td>\n",
              "    </tr>\n",
              "    <tr>\n",
              "      <th>14637</th>\n",
              "      <td>Please bring American Airlines to #BlackBerry10</td>\n",
              "      <td>neutral</td>\n",
              "    </tr>\n",
              "    <tr>\n",
              "      <th>14638</th>\n",
              "      <td>you have my money, you change my flight, and ...</td>\n",
              "      <td>negative</td>\n",
              "    </tr>\n",
              "    <tr>\n",
              "      <th>14639</th>\n",
              "      <td>we have 8 ppl so we need 2 know how many seat...</td>\n",
              "      <td>neutral</td>\n",
              "    </tr>\n",
              "  </tbody>\n",
              "</table>\n",
              "<p>14640 rows × 2 columns</p>\n",
              "</div>\n",
              "    <div class=\"colab-df-buttons\">\n",
              "\n",
              "  <div class=\"colab-df-container\">\n",
              "    <button class=\"colab-df-convert\" onclick=\"convertToInteractive('df-58b6a4cf-a3cf-4b99-bcd5-a170ea66aca9')\"\n",
              "            title=\"Convert this dataframe to an interactive table.\"\n",
              "            style=\"display:none;\">\n",
              "\n",
              "  <svg xmlns=\"http://www.w3.org/2000/svg\" height=\"24px\" viewBox=\"0 -960 960 960\">\n",
              "    <path d=\"M120-120v-720h720v720H120Zm60-500h600v-160H180v160Zm220 220h160v-160H400v160Zm0 220h160v-160H400v160ZM180-400h160v-160H180v160Zm440 0h160v-160H620v160ZM180-180h160v-160H180v160Zm440 0h160v-160H620v160Z\"/>\n",
              "  </svg>\n",
              "    </button>\n",
              "\n",
              "  <style>\n",
              "    .colab-df-container {\n",
              "      display:flex;\n",
              "      gap: 12px;\n",
              "    }\n",
              "\n",
              "    .colab-df-convert {\n",
              "      background-color: #E8F0FE;\n",
              "      border: none;\n",
              "      border-radius: 50%;\n",
              "      cursor: pointer;\n",
              "      display: none;\n",
              "      fill: #1967D2;\n",
              "      height: 32px;\n",
              "      padding: 0 0 0 0;\n",
              "      width: 32px;\n",
              "    }\n",
              "\n",
              "    .colab-df-convert:hover {\n",
              "      background-color: #E2EBFA;\n",
              "      box-shadow: 0px 1px 2px rgba(60, 64, 67, 0.3), 0px 1px 3px 1px rgba(60, 64, 67, 0.15);\n",
              "      fill: #174EA6;\n",
              "    }\n",
              "\n",
              "    .colab-df-buttons div {\n",
              "      margin-bottom: 4px;\n",
              "    }\n",
              "\n",
              "    [theme=dark] .colab-df-convert {\n",
              "      background-color: #3B4455;\n",
              "      fill: #D2E3FC;\n",
              "    }\n",
              "\n",
              "    [theme=dark] .colab-df-convert:hover {\n",
              "      background-color: #434B5C;\n",
              "      box-shadow: 0px 1px 3px 1px rgba(0, 0, 0, 0.15);\n",
              "      filter: drop-shadow(0px 1px 2px rgba(0, 0, 0, 0.3));\n",
              "      fill: #FFFFFF;\n",
              "    }\n",
              "  </style>\n",
              "\n",
              "    <script>\n",
              "      const buttonEl =\n",
              "        document.querySelector('#df-58b6a4cf-a3cf-4b99-bcd5-a170ea66aca9 button.colab-df-convert');\n",
              "      buttonEl.style.display =\n",
              "        google.colab.kernel.accessAllowed ? 'block' : 'none';\n",
              "\n",
              "      async function convertToInteractive(key) {\n",
              "        const element = document.querySelector('#df-58b6a4cf-a3cf-4b99-bcd5-a170ea66aca9');\n",
              "        const dataTable =\n",
              "          await google.colab.kernel.invokeFunction('convertToInteractive',\n",
              "                                                    [key], {});\n",
              "        if (!dataTable) return;\n",
              "\n",
              "        const docLinkHtml = 'Like what you see? Visit the ' +\n",
              "          '<a target=\"_blank\" href=https://colab.research.google.com/notebooks/data_table.ipynb>data table notebook</a>'\n",
              "          + ' to learn more about interactive tables.';\n",
              "        element.innerHTML = '';\n",
              "        dataTable['output_type'] = 'display_data';\n",
              "        await google.colab.output.renderOutput(dataTable, element);\n",
              "        const docLink = document.createElement('div');\n",
              "        docLink.innerHTML = docLinkHtml;\n",
              "        element.appendChild(docLink);\n",
              "      }\n",
              "    </script>\n",
              "  </div>\n",
              "\n",
              "\n",
              "<div id=\"df-c4386b81-c8c6-429a-aec2-925aa507d327\">\n",
              "  <button class=\"colab-df-quickchart\" onclick=\"quickchart('df-c4386b81-c8c6-429a-aec2-925aa507d327')\"\n",
              "            title=\"Suggest charts\"\n",
              "            style=\"display:none;\">\n",
              "\n",
              "<svg xmlns=\"http://www.w3.org/2000/svg\" height=\"24px\"viewBox=\"0 0 24 24\"\n",
              "     width=\"24px\">\n",
              "    <g>\n",
              "        <path d=\"M19 3H5c-1.1 0-2 .9-2 2v14c0 1.1.9 2 2 2h14c1.1 0 2-.9 2-2V5c0-1.1-.9-2-2-2zM9 17H7v-7h2v7zm4 0h-2V7h2v10zm4 0h-2v-4h2v4z\"/>\n",
              "    </g>\n",
              "</svg>\n",
              "  </button>\n",
              "\n",
              "<style>\n",
              "  .colab-df-quickchart {\n",
              "      --bg-color: #E8F0FE;\n",
              "      --fill-color: #1967D2;\n",
              "      --hover-bg-color: #E2EBFA;\n",
              "      --hover-fill-color: #174EA6;\n",
              "      --disabled-fill-color: #AAA;\n",
              "      --disabled-bg-color: #DDD;\n",
              "  }\n",
              "\n",
              "  [theme=dark] .colab-df-quickchart {\n",
              "      --bg-color: #3B4455;\n",
              "      --fill-color: #D2E3FC;\n",
              "      --hover-bg-color: #434B5C;\n",
              "      --hover-fill-color: #FFFFFF;\n",
              "      --disabled-bg-color: #3B4455;\n",
              "      --disabled-fill-color: #666;\n",
              "  }\n",
              "\n",
              "  .colab-df-quickchart {\n",
              "    background-color: var(--bg-color);\n",
              "    border: none;\n",
              "    border-radius: 50%;\n",
              "    cursor: pointer;\n",
              "    display: none;\n",
              "    fill: var(--fill-color);\n",
              "    height: 32px;\n",
              "    padding: 0;\n",
              "    width: 32px;\n",
              "  }\n",
              "\n",
              "  .colab-df-quickchart:hover {\n",
              "    background-color: var(--hover-bg-color);\n",
              "    box-shadow: 0 1px 2px rgba(60, 64, 67, 0.3), 0 1px 3px 1px rgba(60, 64, 67, 0.15);\n",
              "    fill: var(--button-hover-fill-color);\n",
              "  }\n",
              "\n",
              "  .colab-df-quickchart-complete:disabled,\n",
              "  .colab-df-quickchart-complete:disabled:hover {\n",
              "    background-color: var(--disabled-bg-color);\n",
              "    fill: var(--disabled-fill-color);\n",
              "    box-shadow: none;\n",
              "  }\n",
              "\n",
              "  .colab-df-spinner {\n",
              "    border: 2px solid var(--fill-color);\n",
              "    border-color: transparent;\n",
              "    border-bottom-color: var(--fill-color);\n",
              "    animation:\n",
              "      spin 1s steps(1) infinite;\n",
              "  }\n",
              "\n",
              "  @keyframes spin {\n",
              "    0% {\n",
              "      border-color: transparent;\n",
              "      border-bottom-color: var(--fill-color);\n",
              "      border-left-color: var(--fill-color);\n",
              "    }\n",
              "    20% {\n",
              "      border-color: transparent;\n",
              "      border-left-color: var(--fill-color);\n",
              "      border-top-color: var(--fill-color);\n",
              "    }\n",
              "    30% {\n",
              "      border-color: transparent;\n",
              "      border-left-color: var(--fill-color);\n",
              "      border-top-color: var(--fill-color);\n",
              "      border-right-color: var(--fill-color);\n",
              "    }\n",
              "    40% {\n",
              "      border-color: transparent;\n",
              "      border-right-color: var(--fill-color);\n",
              "      border-top-color: var(--fill-color);\n",
              "    }\n",
              "    60% {\n",
              "      border-color: transparent;\n",
              "      border-right-color: var(--fill-color);\n",
              "    }\n",
              "    80% {\n",
              "      border-color: transparent;\n",
              "      border-right-color: var(--fill-color);\n",
              "      border-bottom-color: var(--fill-color);\n",
              "    }\n",
              "    90% {\n",
              "      border-color: transparent;\n",
              "      border-bottom-color: var(--fill-color);\n",
              "    }\n",
              "  }\n",
              "</style>\n",
              "\n",
              "  <script>\n",
              "    async function quickchart(key) {\n",
              "      const quickchartButtonEl =\n",
              "        document.querySelector('#' + key + ' button');\n",
              "      quickchartButtonEl.disabled = true;  // To prevent multiple clicks.\n",
              "      quickchartButtonEl.classList.add('colab-df-spinner');\n",
              "      try {\n",
              "        const charts = await google.colab.kernel.invokeFunction(\n",
              "            'suggestCharts', [key], {});\n",
              "      } catch (error) {\n",
              "        console.error('Error during call to suggestCharts:', error);\n",
              "      }\n",
              "      quickchartButtonEl.classList.remove('colab-df-spinner');\n",
              "      quickchartButtonEl.classList.add('colab-df-quickchart-complete');\n",
              "    }\n",
              "    (() => {\n",
              "      let quickchartButtonEl =\n",
              "        document.querySelector('#df-c4386b81-c8c6-429a-aec2-925aa507d327 button');\n",
              "      quickchartButtonEl.style.display =\n",
              "        google.colab.kernel.accessAllowed ? 'block' : 'none';\n",
              "    })();\n",
              "  </script>\n",
              "</div>\n",
              "\n",
              "  <div id=\"id_d5192db8-2b5c-4b2c-9de4-3f5bd017e2b4\">\n",
              "    <style>\n",
              "      .colab-df-generate {\n",
              "        background-color: #E8F0FE;\n",
              "        border: none;\n",
              "        border-radius: 50%;\n",
              "        cursor: pointer;\n",
              "        display: none;\n",
              "        fill: #1967D2;\n",
              "        height: 32px;\n",
              "        padding: 0 0 0 0;\n",
              "        width: 32px;\n",
              "      }\n",
              "\n",
              "      .colab-df-generate:hover {\n",
              "        background-color: #E2EBFA;\n",
              "        box-shadow: 0px 1px 2px rgba(60, 64, 67, 0.3), 0px 1px 3px 1px rgba(60, 64, 67, 0.15);\n",
              "        fill: #174EA6;\n",
              "      }\n",
              "\n",
              "      [theme=dark] .colab-df-generate {\n",
              "        background-color: #3B4455;\n",
              "        fill: #D2E3FC;\n",
              "      }\n",
              "\n",
              "      [theme=dark] .colab-df-generate:hover {\n",
              "        background-color: #434B5C;\n",
              "        box-shadow: 0px 1px 3px 1px rgba(0, 0, 0, 0.15);\n",
              "        filter: drop-shadow(0px 1px 2px rgba(0, 0, 0, 0.3));\n",
              "        fill: #FFFFFF;\n",
              "      }\n",
              "    </style>\n",
              "    <button class=\"colab-df-generate\" onclick=\"generateWithVariable('df')\"\n",
              "            title=\"Generate code using this dataframe.\"\n",
              "            style=\"display:none;\">\n",
              "\n",
              "  <svg xmlns=\"http://www.w3.org/2000/svg\" height=\"24px\"viewBox=\"0 0 24 24\"\n",
              "       width=\"24px\">\n",
              "    <path d=\"M7,19H8.4L18.45,9,17,7.55,7,17.6ZM5,21V16.75L18.45,3.32a2,2,0,0,1,2.83,0l1.4,1.43a1.91,1.91,0,0,1,.58,1.4,1.91,1.91,0,0,1-.58,1.4L9.25,21ZM18.45,9,17,7.55Zm-12,3A5.31,5.31,0,0,0,4.9,8.1,5.31,5.31,0,0,0,1,6.5,5.31,5.31,0,0,0,4.9,4.9,5.31,5.31,0,0,0,6.5,1,5.31,5.31,0,0,0,8.1,4.9,5.31,5.31,0,0,0,12,6.5,5.46,5.46,0,0,0,6.5,12Z\"/>\n",
              "  </svg>\n",
              "    </button>\n",
              "    <script>\n",
              "      (() => {\n",
              "      const buttonEl =\n",
              "        document.querySelector('#id_d5192db8-2b5c-4b2c-9de4-3f5bd017e2b4 button.colab-df-generate');\n",
              "      buttonEl.style.display =\n",
              "        google.colab.kernel.accessAllowed ? 'block' : 'none';\n",
              "\n",
              "      buttonEl.onclick = () => {\n",
              "        google.colab.notebook.generateWithVariable('df');\n",
              "      }\n",
              "      })();\n",
              "    </script>\n",
              "  </div>\n",
              "\n",
              "    </div>\n",
              "  </div>\n"
            ],
            "application/vnd.google.colaboratory.intrinsic+json": {
              "type": "dataframe",
              "variable_name": "df",
              "summary": "{\n  \"name\": \"df\",\n  \"rows\": 14640,\n  \"fields\": [\n    {\n      \"column\": \"text\",\n      \"properties\": {\n        \"dtype\": \"string\",\n        \"num_unique_values\": 14369,\n        \"samples\": [\n          \" I'd love to take my seat, but it appears as though someone already has.  #disappointed #upgrademe #wtf http://t.co/9Gx5mMmubb\",\n          \" is there a phone number or email address to customer service?\",\n          \" comedy of errors continues...\\\" We can't get into our gate, there is a broken down truck in the way\\\" #fail\"\n        ],\n        \"semantic_type\": \"\",\n        \"description\": \"\"\n      }\n    },\n    {\n      \"column\": \"airline_sentiment\",\n      \"properties\": {\n        \"dtype\": \"category\",\n        \"num_unique_values\": 3,\n        \"samples\": [\n          \"neutral\",\n          \"positive\",\n          \"negative\"\n        ],\n        \"semantic_type\": \"\",\n        \"description\": \"\"\n      }\n    }\n  ]\n}"
            }
          },
          "metadata": {},
          "execution_count": 4
        }
      ]
    },
    {
      "cell_type": "code",
      "source": [
        "sns.countplot(data.airline);"
      ],
      "metadata": {
        "execution": {
          "iopub.status.busy": "2023-03-01T15:53:19.97722Z",
          "iopub.execute_input": "2023-03-01T15:53:19.97772Z",
          "iopub.status.idle": "2023-03-01T15:53:20.283425Z",
          "shell.execute_reply.started": "2023-03-01T15:53:19.977666Z",
          "shell.execute_reply": "2023-03-01T15:53:20.282588Z"
        },
        "trusted": true,
        "id": "fDOSgccOZJEL",
        "outputId": "2097e7e2-e88f-4fe2-bbeb-6c0ad7ae13eb",
        "colab": {
          "base_uri": "https://localhost:8080/",
          "height": 426
        }
      },
      "execution_count": 5,
      "outputs": [
        {
          "output_type": "display_data",
          "data": {
            "text/plain": [
              "<Figure size 640x480 with 1 Axes>"
            ],
            "image/png": "[encoded data removed]"
          },
          "metadata": {}
        }
      ]
    },
    {
      "cell_type": "code",
      "source": [
        "df = df[df.airline_sentiment!=\"neutral\"] # To remove neutral responses\n",
        "df['text'] = df['text'].apply(lambda x: x.lower()) # To lower\n",
        "df['text'] = df['text'].apply((lambda x: re.sub('[^a-zA-z0-9\\s]','',x))) # To keep numbers and strings only"
      ],
      "metadata": {
        "execution": {
          "iopub.status.busy": "2023-03-01T15:53:20.286502Z",
          "iopub.execute_input": "2023-03-01T15:53:20.28699Z",
          "iopub.status.idle": "2023-03-01T15:53:20.520931Z",
          "shell.execute_reply.started": "2023-03-01T15:53:20.286936Z",
          "shell.execute_reply": "2023-03-01T15:53:20.520142Z"
        },
        "trusted": true,
        "id": "apsqymm9ZJEL",
        "outputId": "39bce2d7-9777-45a2-881b-625b70113cab",
        "colab": {
          "base_uri": "https://localhost:8080/"
        }
      },
      "execution_count": 6,
      "outputs": [
        {
          "output_type": "stream",
          "name": "stderr",
          "text": [
            "<ipython-input-6-2e7e31eb758f>:2: SettingWithCopyWarning: \n",
            "A value is trying to be set on a copy of a slice from a DataFrame.\n",
            "Try using .loc[row_indexer,col_indexer] = value instead\n",
            "\n",
            "See the caveats in the documentation: https://pandas.pydata.org/pandas-docs/stable/user_guide/indexing.html#returning-a-view-versus-a-copy\n",
            "  df['text'] = df['text'].apply(lambda x: x.lower()) # To lower\n",
            "<ipython-input-6-2e7e31eb758f>:3: SettingWithCopyWarning: \n",
            "A value is trying to be set on a copy of a slice from a DataFrame.\n",
            "Try using .loc[row_indexer,col_indexer] = value instead\n",
            "\n",
            "See the caveats in the documentation: https://pandas.pydata.org/pandas-docs/stable/user_guide/indexing.html#returning-a-view-versus-a-copy\n",
            "  df['text'] = df['text'].apply((lambda x: re.sub('[^a-zA-z0-9\\s]','',x))) # To keep numbers and strings only\n"
          ]
        }
      ]
    },
    {
      "cell_type": "code",
      "source": [
        "df.head(5) #Quick Look"
      ],
      "metadata": {
        "execution": {
          "iopub.status.busy": "2023-03-01T15:53:20.522449Z",
          "iopub.execute_input": "2023-03-01T15:53:20.52292Z",
          "iopub.status.idle": "2023-03-01T15:53:20.535567Z",
          "shell.execute_reply.started": "2023-03-01T15:53:20.522869Z",
          "shell.execute_reply": "2023-03-01T15:53:20.534571Z"
        },
        "trusted": true,
        "id": "WnGrnprHZJEM",
        "outputId": "686bbccb-058e-445f-a00e-ee06b20e13a3",
        "colab": {
          "base_uri": "https://localhost:8080/",
          "height": 206
        }
      },
      "execution_count": 7,
      "outputs": [
        {
          "output_type": "execute_result",
          "data": {
            "text/plain": [
              "                                                text airline_sentiment\n",
              "1   plus youve added commercials to the experienc...          positive\n",
              "3   its really aggressive to blast obnoxious ente...          negative\n",
              "4            and its a really big bad thing about it          negative\n",
              "5   seriously would pay 30 a flight for seats tha...          negative\n",
              "6   yes nearly every time i fly vx this ear worm ...          positive"
            ],
            "text/html": [
              "\n",
              "  <div id=\"df-99435bde-de5c-4cbf-814e-a082865c4eae\" class=\"colab-df-container\">\n",
              "    <div>\n",
              "<style scoped>\n",
              "    .dataframe tbody tr th:only-of-type {\n",
              "        vertical-align: middle;\n",
              "    }\n",
              "\n",
              "    .dataframe tbody tr th {\n",
              "        vertical-align: top;\n",
              "    }\n",
              "\n",
              "    .dataframe thead th {\n",
              "        text-align: right;\n",
              "    }\n",
              "</style>\n",
              "<table border=\"1\" class=\"dataframe\">\n",
              "  <thead>\n",
              "    <tr style=\"text-align: right;\">\n",
              "      <th></th>\n",
              "      <th>text</th>\n",
              "      <th>airline_sentiment</th>\n",
              "    </tr>\n",
              "  </thead>\n",
              "  <tbody>\n",
              "    <tr>\n",
              "      <th>1</th>\n",
              "      <td>plus youve added commercials to the experienc...</td>\n",
              "      <td>positive</td>\n",
              "    </tr>\n",
              "    <tr>\n",
              "      <th>3</th>\n",
              "      <td>its really aggressive to blast obnoxious ente...</td>\n",
              "      <td>negative</td>\n",
              "    </tr>\n",
              "    <tr>\n",
              "      <th>4</th>\n",
              "      <td>and its a really big bad thing about it</td>\n",
              "      <td>negative</td>\n",
              "    </tr>\n",
              "    <tr>\n",
              "      <th>5</th>\n",
              "      <td>seriously would pay 30 a flight for seats tha...</td>\n",
              "      <td>negative</td>\n",
              "    </tr>\n",
              "    <tr>\n",
              "      <th>6</th>\n",
              "      <td>yes nearly every time i fly vx this ear worm ...</td>\n",
              "      <td>positive</td>\n",
              "    </tr>\n",
              "  </tbody>\n",
              "</table>\n",
              "</div>\n",
              "    <div class=\"colab-df-buttons\">\n",
              "\n",
              "  <div class=\"colab-df-container\">\n",
              "    <button class=\"colab-df-convert\" onclick=\"convertToInteractive('df-99435bde-de5c-4cbf-814e-a082865c4eae')\"\n",
              "            title=\"Convert this dataframe to an interactive table.\"\n",
              "            style=\"display:none;\">\n",
              "\n",
              "  <svg xmlns=\"http://www.w3.org/2000/svg\" height=\"24px\" viewBox=\"0 -960 960 960\">\n",
              "    <path d=\"M120-120v-720h720v720H120Zm60-500h600v-160H180v160Zm220 220h160v-160H400v160Zm0 220h160v-160H400v160ZM180-400h160v-160H180v160Zm440 0h160v-160H620v160ZM180-180h160v-160H180v160Zm440 0h160v-160H620v160Z\"/>\n",
              "  </svg>\n",
              "    </button>\n",
              "\n",
              "  <style>\n",
              "    .colab-df-container {\n",
              "      display:flex;\n",
              "      gap: 12px;\n",
              "    }\n",
              "\n",
              "    .colab-df-convert {\n",
              "      background-color: #E8F0FE;\n",
              "      border: none;\n",
              "      border-radius: 50%;\n",
              "      cursor: pointer;\n",
              "      display: none;\n",
              "      fill: #1967D2;\n",
              "      height: 32px;\n",
              "      padding: 0 0 0 0;\n",
              "      width: 32px;\n",
              "    }\n",
              "\n",
              "    .colab-df-convert:hover {\n",
              "      background-color: #E2EBFA;\n",
              "      box-shadow: 0px 1px 2px rgba(60, 64, 67, 0.3), 0px 1px 3px 1px rgba(60, 64, 67, 0.15);\n",
              "      fill: #174EA6;\n",
              "    }\n",
              "\n",
              "    .colab-df-buttons div {\n",
              "      margin-bottom: 4px;\n",
              "    }\n",
              "\n",
              "    [theme=dark] .colab-df-convert {\n",
              "      background-color: #3B4455;\n",
              "      fill: #D2E3FC;\n",
              "    }\n",
              "\n",
              "    [theme=dark] .colab-df-convert:hover {\n",
              "      background-color: #434B5C;\n",
              "      box-shadow: 0px 1px 3px 1px rgba(0, 0, 0, 0.15);\n",
              "      filter: drop-shadow(0px 1px 2px rgba(0, 0, 0, 0.3));\n",
              "      fill: #FFFFFF;\n",
              "    }\n",
              "  </style>\n",
              "\n",
              "    <script>\n",
              "      const buttonEl =\n",
              "        document.querySelector('#df-99435bde-de5c-4cbf-814e-a082865c4eae button.colab-df-convert');\n",
              "      buttonEl.style.display =\n",
              "        google.colab.kernel.accessAllowed ? 'block' : 'none';\n",
              "\n",
              "      async function convertToInteractive(key) {\n",
              "        const element = document.querySelector('#df-99435bde-de5c-4cbf-814e-a082865c4eae');\n",
              "        const dataTable =\n",
              "          await google.colab.kernel.invokeFunction('convertToInteractive',\n",
              "                                                    [key], {});\n",
              "        if (!dataTable) return;\n",
              "\n",
              "        const docLinkHtml = 'Like what you see? Visit the ' +\n",
              "          '<a target=\"_blank\" href=https://colab.research.google.com/notebooks/data_table.ipynb>data table notebook</a>'\n",
              "          + ' to learn more about interactive tables.';\n",
              "        element.innerHTML = '';\n",
              "        dataTable['output_type'] = 'display_data';\n",
              "        await google.colab.output.renderOutput(dataTable, element);\n",
              "        const docLink = document.createElement('div');\n",
              "        docLink.innerHTML = docLinkHtml;\n",
              "        element.appendChild(docLink);\n",
              "      }\n",
              "    </script>\n",
              "  </div>\n",
              "\n",
              "\n",
              "<div id=\"df-c96d728b-ebf1-4860-848c-4a6a300e5d3c\">\n",
              "  <button class=\"colab-df-quickchart\" onclick=\"quickchart('df-c96d728b-ebf1-4860-848c-4a6a300e5d3c')\"\n",
              "            title=\"Suggest charts\"\n",
              "            style=\"display:none;\">\n",
              "\n",
              "<svg xmlns=\"http://www.w3.org/2000/svg\" height=\"24px\"viewBox=\"0 0 24 24\"\n",
              "     width=\"24px\">\n",
              "    <g>\n",
              "        <path d=\"M19 3H5c-1.1 0-2 .9-2 2v14c0 1.1.9 2 2 2h14c1.1 0 2-.9 2-2V5c0-1.1-.9-2-2-2zM9 17H7v-7h2v7zm4 0h-2V7h2v10zm4 0h-2v-4h2v4z\"/>\n",
              "    </g>\n",
              "</svg>\n",
              "  </button>\n",
              "\n",
              "<style>\n",
              "  .colab-df-quickchart {\n",
              "      --bg-color: #E8F0FE;\n",
              "      --fill-color: #1967D2;\n",
              "      --hover-bg-color: #E2EBFA;\n",
              "      --hover-fill-color: #174EA6;\n",
              "      --disabled-fill-color: #AAA;\n",
              "      --disabled-bg-color: #DDD;\n",
              "  }\n",
              "\n",
              "  [theme=dark] .colab-df-quickchart {\n",
              "      --bg-color: #3B4455;\n",
              "      --fill-color: #D2E3FC;\n",
              "      --hover-bg-color: #434B5C;\n",
              "      --hover-fill-color: #FFFFFF;\n",
              "      --disabled-bg-color: #3B4455;\n",
              "      --disabled-fill-color: #666;\n",
              "  }\n",
              "\n",
              "  .colab-df-quickchart {\n",
              "    background-color: var(--bg-color);\n",
              "    border: none;\n",
              "    border-radius: 50%;\n",
              "    cursor: pointer;\n",
              "    display: none;\n",
              "    fill: var(--fill-color);\n",
              "    height: 32px;\n",
              "    padding: 0;\n",
              "    width: 32px;\n",
              "  }\n",
              "\n",
              "  .colab-df-quickchart:hover {\n",
              "    background-color: var(--hover-bg-color);\n",
              "    box-shadow: 0 1px 2px rgba(60, 64, 67, 0.3), 0 1px 3px 1px rgba(60, 64, 67, 0.15);\n",
              "    fill: var(--button-hover-fill-color);\n",
              "  }\n",
              "\n",
              "  .colab-df-quickchart-complete:disabled,\n",
              "  .colab-df-quickchart-complete:disabled:hover {\n",
              "    background-color: var(--disabled-bg-color);\n",
              "    fill: var(--disabled-fill-color);\n",
              "    box-shadow: none;\n",
              "  }\n",
              "\n",
              "  .colab-df-spinner {\n",
              "    border: 2px solid var(--fill-color);\n",
              "    border-color: transparent;\n",
              "    border-bottom-color: var(--fill-color);\n",
              "    animation:\n",
              "      spin 1s steps(1) infinite;\n",
              "  }\n",
              "\n",
              "  @keyframes spin {\n",
              "    0% {\n",
              "      border-color: transparent;\n",
              "      border-bottom-color: var(--fill-color);\n",
              "      border-left-color: var(--fill-color);\n",
              "    }\n",
              "    20% {\n",
              "      border-color: transparent;\n",
              "      border-left-color: var(--fill-color);\n",
              "      border-top-color: var(--fill-color);\n",
              "    }\n",
              "    30% {\n",
              "      border-color: transparent;\n",
              "      border-left-color: var(--fill-color);\n",
              "      border-top-color: var(--fill-color);\n",
              "      border-right-color: var(--fill-color);\n",
              "    }\n",
              "    40% {\n",
              "      border-color: transparent;\n",
              "      border-right-color: var(--fill-color);\n",
              "      border-top-color: var(--fill-color);\n",
              "    }\n",
              "    60% {\n",
              "      border-color: transparent;\n",
              "      border-right-color: var(--fill-color);\n",
              "    }\n",
              "    80% {\n",
              "      border-color: transparent;\n",
              "      border-right-color: var(--fill-color);\n",
              "      border-bottom-color: var(--fill-color);\n",
              "    }\n",
              "    90% {\n",
              "      border-color: transparent;\n",
              "      border-bottom-color: var(--fill-color);\n",
              "    }\n",
              "  }\n",
              "</style>\n",
              "\n",
              "  <script>\n",
              "    async function quickchart(key) {\n",
              "      const quickchartButtonEl =\n",
              "        document.querySelector('#' + key + ' button');\n",
              "      quickchartButtonEl.disabled = true;  // To prevent multiple clicks.\n",
              "      quickchartButtonEl.classList.add('colab-df-spinner');\n",
              "      try {\n",
              "        const charts = await google.colab.kernel.invokeFunction(\n",
              "            'suggestCharts', [key], {});\n",
              "      } catch (error) {\n",
              "        console.error('Error during call to suggestCharts:', error);\n",
              "      }\n",
              "      quickchartButtonEl.classList.remove('colab-df-spinner');\n",
              "      quickchartButtonEl.classList.add('colab-df-quickchart-complete');\n",
              "    }\n",
              "    (() => {\n",
              "      let quickchartButtonEl =\n",
              "        document.querySelector('#df-c96d728b-ebf1-4860-848c-4a6a300e5d3c button');\n",
              "      quickchartButtonEl.style.display =\n",
              "        google.colab.kernel.accessAllowed ? 'block' : 'none';\n",
              "    })();\n",
              "  </script>\n",
              "</div>\n",
              "\n",
              "    </div>\n",
              "  </div>\n"
            ],
            "application/vnd.google.colaboratory.intrinsic+json": {
              "type": "dataframe",
              "variable_name": "df",
              "summary": "{\n  \"name\": \"df\",\n  \"rows\": 11541,\n  \"fields\": [\n    {\n      \"column\": \"text\",\n      \"properties\": {\n        \"dtype\": \"string\",\n        \"num_unique_values\": 11306,\n        \"samples\": [\n          \" thanks  can you help remind the agents its ok  ps heard rumors of a streaming wifi tvmovie service you might be installing\",\n          \" 4 segments 44 delayed gnv gt ctl  ctl gt jan  jan gt ctl  ctl gt gnv my year off from flying with you guys was the way to go\",\n          \" is that the same reliable system couldnt find my info and then said it refund my credit card \"\n        ],\n        \"semantic_type\": \"\",\n        \"description\": \"\"\n      }\n    },\n    {\n      \"column\": \"airline_sentiment\",\n      \"properties\": {\n        \"dtype\": \"category\",\n        \"num_unique_values\": 2,\n        \"samples\": [\n          \"negative\",\n          \"positive\"\n        ],\n        \"semantic_type\": \"\",\n        \"description\": \"\"\n      }\n    }\n  ]\n}"
            }
          },
          "metadata": {},
          "execution_count": 7
        }
      ]
    },
    {
      "cell_type": "code",
      "source": [
        "sns.countplot(df.airline_sentiment);#Mostly Negative Reviews(Class Imbalance found)"
      ],
      "metadata": {
        "execution": {
          "iopub.status.busy": "2023-03-01T15:53:20.536801Z",
          "iopub.execute_input": "2023-03-01T15:53:20.537274Z",
          "iopub.status.idle": "2023-03-01T15:53:20.737759Z",
          "shell.execute_reply.started": "2023-03-01T15:53:20.537062Z",
          "shell.execute_reply": "2023-03-01T15:53:20.736707Z"
        },
        "trusted": true,
        "id": "0e9grsN-ZJEM",
        "outputId": "bb42d2bd-dd95-4c0e-fe2d-c5b3961c1d7b",
        "colab": {
          "base_uri": "https://localhost:8080/",
          "height": 449
        }
      },
      "execution_count": 8,
      "outputs": [
        {
          "output_type": "display_data",
          "data": {
            "text/plain": [
              "<Figure size 640x480 with 1 Axes>"
            ],
            "image/png": "[encoded data removed]"
          },
          "metadata": {}
        }
      ]
    },
    {
      "cell_type": "markdown",
      "source": [
        "This next line of code drops the first 5000 rows where the value of the \"airline_sentiment\" column is \"negative\" from a pandas DataFrame called \"df\", due to unequal amount of negatives to positives\n",
        "\n",
        "In summary, the code drops the first 5000 rows where the value of the \"airline_sentiment\" column is \"negative\" from the original DataFrame \"df\" and returns a new DataFrame without those rows."
      ],
      "metadata": {
        "id": "s5jPDnXCZJEM"
      }
    },
    {
      "cell_type": "code",
      "source": [
        "df = df.drop(df[df.airline_sentiment == \"negative\"].iloc[:5000].index)"
      ],
      "metadata": {
        "execution": {
          "iopub.status.busy": "2023-03-01T15:53:20.739359Z",
          "iopub.execute_input": "2023-03-01T15:53:20.739655Z",
          "iopub.status.idle": "2023-03-01T15:53:20.753751Z",
          "shell.execute_reply.started": "2023-03-01T15:53:20.73961Z",
          "shell.execute_reply": "2023-03-01T15:53:20.752445Z"
        },
        "trusted": true,
        "id": "kQI0b_cUZJEN"
      },
      "execution_count": 9,
      "outputs": []
    },
    {
      "cell_type": "code",
      "source": [
        "sns.countplot(df.airline_sentiment);"
      ],
      "metadata": {
        "execution": {
          "iopub.status.busy": "2023-03-01T15:53:20.75578Z",
          "iopub.execute_input": "2023-03-01T15:53:20.756316Z",
          "iopub.status.idle": "2023-03-01T15:53:21.014734Z",
          "shell.execute_reply.started": "2023-03-01T15:53:20.756265Z",
          "shell.execute_reply": "2023-03-01T15:53:21.013595Z"
        },
        "trusted": true,
        "id": "sxiHtB8iZJEN",
        "outputId": "8f8be807-d6ae-43e0-a851-626fabace702",
        "colab": {
          "base_uri": "https://localhost:8080/",
          "height": 449
        }
      },
      "execution_count": 10,
      "outputs": [
        {
          "output_type": "display_data",
          "data": {
            "text/plain": [
              "<Figure size 640x480 with 1 Axes>"
            ],
            "image/png": "[encoded data removed]"
          },
          "metadata": {}
        }
      ]
    },
    {
      "cell_type": "markdown",
      "source": [
        "This code snippet uses the Keras Tokenizer and pad_sequences functions to preprocess text data. Specifically, it tokenizes the text data by splitting the text into individual words and then maps these words to integers. The maximum number of unique words to be considered is set to 4000 using the max_features parameter of the Tokenizer function.\n",
        "\n",
        "After the text is tokenized, the pad_sequences function is used to ensure that all sequences have the same length by adding padding to the beginning or end of the sequences as needed. The resulting X variable is a two-dimensional numpy array where each row represents a sequence of integers corresponding to the words in the original text.\n",
        "\n",
        "Overall, this code prepares the text data for use in a machine learning model by converting it into a format that can be easily processed by the model."
      ],
      "metadata": {
        "id": "dC0irVCDZJEN"
      }
    },
    {
      "cell_type": "code",
      "source": [
        "max_fatures = 4000\n",
        "tokenizer = Tokenizer(num_words = max_fatures, split=' ')\n",
        "tokenizer.fit_on_texts(df['text'].values)\n",
        "X = tokenizer.texts_to_sequences(df['text'].values)\n",
        "X = pad_sequences(X)\n",
        "Y = df['airline_sentiment']\n",
        "L = Y.values\n",
        "X\n",
        "L"
      ],
      "metadata": {
        "execution": {
          "iopub.status.busy": "2023-03-01T15:53:21.016504Z",
          "iopub.execute_input": "2023-03-01T15:53:21.017106Z",
          "iopub.status.idle": "2023-03-01T15:53:21.410534Z",
          "shell.execute_reply.started": "2023-03-01T15:53:21.017049Z",
          "shell.execute_reply": "2023-03-01T15:53:21.409799Z"
        },
        "trusted": true,
        "id": "qZw4_v51ZJEO",
        "outputId": "febed4f0-bf08-4c6e-cbdf-4f32d8a7de3f",
        "colab": {
          "base_uri": "https://localhost:8080/"
        }
      },
      "execution_count": 11,
      "outputs": [
        {
          "output_type": "execute_result",
          "data": {
            "text/plain": [
              "array(['positive', 'positive', 'positive', ..., 'positive', 'negative',\n",
              "       'negative'], dtype=object)"
            ]
          },
          "metadata": {},
          "execution_count": 11
        }
      ]
    },
    {
      "cell_type": "code",
      "source": [
        "k = []\n",
        "for i in range(6541):\n",
        "    if L[i]==\"negative\":\n",
        "                        k.append(0)\n",
        "    elif L[i]==\"positive\":\n",
        "                        k.append(1)\n"
      ],
      "metadata": {
        "execution": {
          "iopub.status.busy": "2023-03-01T15:53:21.412092Z",
          "iopub.execute_input": "2023-03-01T15:53:21.412378Z",
          "iopub.status.idle": "2023-03-01T15:53:21.419841Z",
          "shell.execute_reply.started": "2023-03-01T15:53:21.412332Z",
          "shell.execute_reply": "2023-03-01T15:53:21.418857Z"
        },
        "trusted": true,
        "id": "KfV9owqwZJEO"
      },
      "execution_count": 12,
      "outputs": []
    },
    {
      "cell_type": "markdown",
      "source": [
        "**Train Test Split**"
      ],
      "metadata": {
        "id": "Q6xfyDeaZJEO"
      }
    },
    {
      "cell_type": "code",
      "source": [
        "X_train, X_test, Y_train, Y_test = train_test_split(X, k,\n",
        "                                                    test_size=0.3,\n",
        "                                                    shuffle = True,\n",
        "                                                    stratify = k,\n",
        "                                                    random_state = 1 )"
      ],
      "metadata": {
        "execution": {
          "iopub.status.busy": "2023-03-01T15:53:21.421468Z",
          "iopub.execute_input": "2023-03-01T15:53:21.422068Z",
          "iopub.status.idle": "2023-03-01T15:53:21.43659Z",
          "shell.execute_reply.started": "2023-03-01T15:53:21.421863Z",
          "shell.execute_reply": "2023-03-01T15:53:21.435828Z"
        },
        "trusted": true,
        "id": "dzxn8ihZZJEO"
      },
      "execution_count": 13,
      "outputs": []
    },
    {
      "cell_type": "markdown",
      "source": [
        "# Defining the Model"
      ],
      "metadata": {
        "id": "WqvBqMekZJEQ"
      }
    },
    {
      "cell_type": "code",
      "source": [
        "embed_dim = 128\n",
        "lstm_out = 196\n",
        "model = tf.keras.models.Sequential()\n",
        "model.add(tf.keras.layers.Embedding(max_fatures, 128, input_length=X_train.shape[1]))\n",
        "model.add(tf.keras.layers.SpatialDropout1D(0.5))\n",
        "model.add(tf.keras.layers.LSTM(196, dropout = 0.3, recurrent_dropout = 0.3 ))\n",
        "model.add(tf.keras.layers.Dropout(0.2))\n",
        "model.add(tf.keras.layers.Dense(100, activation = tf.nn.relu))\n",
        "model.add(tf.keras.layers.Dropout(0.4))\n",
        "model.add(tf.keras.layers.Dense(2, activation = tf.nn.softmax))"
      ],
      "metadata": {
        "execution": {
          "iopub.status.busy": "2023-03-01T15:53:21.438301Z",
          "iopub.execute_input": "2023-03-01T15:53:21.438762Z",
          "iopub.status.idle": "2023-03-01T15:53:22.077593Z",
          "shell.execute_reply.started": "2023-03-01T15:53:21.438561Z",
          "shell.execute_reply": "2023-03-01T15:53:22.076743Z"
        },
        "trusted": true,
        "id": "mC5NTQz9ZJER",
        "outputId": "e2e152b1-5b2a-4790-953f-0a2ebdcae697",
        "colab": {
          "base_uri": "https://localhost:8080/"
        }
      },
      "execution_count": 14,
      "outputs": [
        {
          "output_type": "stream",
          "name": "stderr",
          "text": [
            "WARNING:tensorflow:Layer lstm will not use cuDNN kernels since it doesn't meet the criteria. It will use a generic GPU kernel as fallback when running on GPU.\n"
          ]
        }
      ]
    },
    {
      "cell_type": "code",
      "source": [
        "model.compile(optimizer=\"adam\", loss=\"sparse_categorical_crossentropy\", metrics=[\"accuracy\"])"
      ],
      "metadata": {
        "execution": {
          "iopub.status.busy": "2023-03-01T15:53:22.082263Z",
          "iopub.execute_input": "2023-03-01T15:53:22.082562Z",
          "iopub.status.idle": "2023-03-01T15:53:22.161143Z",
          "shell.execute_reply.started": "2023-03-01T15:53:22.082506Z",
          "shell.execute_reply": "2023-03-01T15:53:22.160411Z"
        },
        "trusted": true,
        "id": "ibjcfwonZJER"
      },
      "execution_count": 15,
      "outputs": []
    },
    {
      "cell_type": "markdown",
      "source": [
        "# Training the Model"
      ],
      "metadata": {
        "id": "EjTItYZmZJER"
      }
    },
    {
      "cell_type": "code",
      "source": [
        "import numpy as np\n",
        "import tensorflow as tf\n",
        "\n",
        "# Assuming X_train and Y_train are lists of integers, convert them to NumPy arrays:\n",
        "X_train = np.array(X_train)\n",
        "Y_train = np.array(Y_train)\n",
        "\n",
        "Model = model.fit(X_train,\n",
        "                 Y_train,\n",
        "                 epochs=20,\n",
        "                 batch_size=32,\n",
        "                 validation_split = 0.2, # Now this should work as expected\n",
        "                 verbose = 2)\n",
        "\n",
        "\n",
        "\n",
        "\n",
        "# Model = model.fit(X_train,\n",
        "#                          Y_train,\n",
        "#                          epochs=20,\n",
        "#                          batch_size=32,\n",
        "#                          validation_split = 0.2,\n",
        "#                          verbose = 2)"
      ],
      "metadata": {
        "execution": {
          "iopub.status.busy": "2023-03-01T15:53:22.165485Z",
          "iopub.execute_input": "2023-03-01T15:53:22.167579Z",
          "iopub.status.idle": "2023-03-01T15:55:48.982776Z",
          "shell.execute_reply.started": "2023-03-01T15:53:22.167524Z",
          "shell.execute_reply": "2023-03-01T15:55:48.981737Z"
        },
        "trusted": true,
        "id": "RZTwk0E-ZJER",
        "outputId": "7e363402-0abb-4f65-df92-d9e3b5e6fd62",
        "colab": {
          "base_uri": "https://localhost:8080/"
        }
      },
      "execution_count": 17,
      "outputs": [
        {
          "output_type": "stream",
          "name": "stdout",
          "text": [
            "Epoch 1/20\n",
            "115/115 - 23s - loss: 0.4953 - accuracy: 0.7662 - val_loss: 0.2953 - val_accuracy: 0.8755 - 23s/epoch - 198ms/step\n",
            "Epoch 2/20\n",
            "115/115 - 12s - loss: 0.2190 - accuracy: 0.9126 - val_loss: 0.2307 - val_accuracy: 0.9094 - 12s/epoch - 102ms/step\n",
            "Epoch 3/20\n",
            "115/115 - 12s - loss: 0.1487 - accuracy: 0.9432 - val_loss: 0.2119 - val_accuracy: 0.9269 - 12s/epoch - 104ms/step\n",
            "Epoch 4/20\n",
            "115/115 - 12s - loss: 0.1031 - accuracy: 0.9629 - val_loss: 0.2282 - val_accuracy: 0.9192 - 12s/epoch - 106ms/step\n",
            "Epoch 5/20\n",
            "115/115 - 13s - loss: 0.0712 - accuracy: 0.9760 - val_loss: 0.2464 - val_accuracy: 0.9225 - 13s/epoch - 113ms/step\n",
            "Epoch 6/20\n",
            "115/115 - 11s - loss: 0.0641 - accuracy: 0.9754 - val_loss: 0.2876 - val_accuracy: 0.9181 - 11s/epoch - 99ms/step\n",
            "Epoch 7/20\n",
            "115/115 - 12s - loss: 0.0501 - accuracy: 0.9823 - val_loss: 0.3029 - val_accuracy: 0.9279 - 12s/epoch - 106ms/step\n",
            "Epoch 8/20\n",
            "115/115 - 12s - loss: 0.0280 - accuracy: 0.9910 - val_loss: 0.3088 - val_accuracy: 0.9148 - 12s/epoch - 102ms/step\n",
            "Epoch 9/20\n",
            "115/115 - 12s - loss: 0.0345 - accuracy: 0.9888 - val_loss: 0.3063 - val_accuracy: 0.9203 - 12s/epoch - 103ms/step\n",
            "Epoch 10/20\n",
            "115/115 - 12s - loss: 0.0202 - accuracy: 0.9934 - val_loss: 0.3087 - val_accuracy: 0.9148 - 12s/epoch - 102ms/step\n",
            "Epoch 11/20\n",
            "115/115 - 12s - loss: 0.0187 - accuracy: 0.9937 - val_loss: 0.3948 - val_accuracy: 0.9170 - 12s/epoch - 101ms/step\n",
            "Epoch 12/20\n",
            "115/115 - 11s - loss: 0.0110 - accuracy: 0.9965 - val_loss: 0.5487 - val_accuracy: 0.9017 - 11s/epoch - 98ms/step\n",
            "Epoch 13/20\n",
            "115/115 - 11s - loss: 0.0181 - accuracy: 0.9937 - val_loss: 0.4716 - val_accuracy: 0.9258 - 11s/epoch - 96ms/step\n",
            "Epoch 14/20\n",
            "115/115 - 11s - loss: 0.0113 - accuracy: 0.9965 - val_loss: 0.4260 - val_accuracy: 0.9192 - 11s/epoch - 96ms/step\n",
            "Epoch 15/20\n",
            "115/115 - 12s - loss: 0.0161 - accuracy: 0.9959 - val_loss: 0.4554 - val_accuracy: 0.9039 - 12s/epoch - 101ms/step\n",
            "Epoch 16/20\n",
            "115/115 - 12s - loss: 0.0152 - accuracy: 0.9937 - val_loss: 0.3911 - val_accuracy: 0.9181 - 12s/epoch - 104ms/step\n",
            "Epoch 17/20\n",
            "115/115 - 11s - loss: 0.0074 - accuracy: 0.9978 - val_loss: 0.4523 - val_accuracy: 0.9138 - 11s/epoch - 99ms/step\n",
            "Epoch 18/20\n",
            "115/115 - 11s - loss: 0.0059 - accuracy: 0.9973 - val_loss: 0.4897 - val_accuracy: 0.9203 - 11s/epoch - 99ms/step\n",
            "Epoch 19/20\n",
            "115/115 - 12s - loss: 0.0076 - accuracy: 0.9965 - val_loss: 0.5149 - val_accuracy: 0.9105 - 12s/epoch - 102ms/step\n",
            "Epoch 20/20\n",
            "115/115 - 11s - loss: 0.0297 - accuracy: 0.9934 - val_loss: 0.5189 - val_accuracy: 0.9094 - 11s/epoch - 99ms/step\n"
          ]
        }
      ]
    },
    {
      "cell_type": "code",
      "source": [
        "X_test = np.array(X_test)\n",
        "Y_test = np.array(Y_test)\n",
        "score = model.evaluate(X_test, Y_test, verbose=False)\n",
        "print(\"loss = \",score[0])\n",
        "print(\"accuracy = \",score[1])"
      ],
      "metadata": {
        "execution": {
          "iopub.status.busy": "2023-03-01T15:55:48.984414Z",
          "iopub.execute_input": "2023-03-01T15:55:48.984772Z",
          "iopub.status.idle": "2023-03-01T15:55:50.245464Z",
          "shell.execute_reply.started": "2023-03-01T15:55:48.984717Z",
          "shell.execute_reply": "2023-03-01T15:55:50.244418Z"
        },
        "trusted": true,
        "id": "KJ9IZhg1ZJER",
        "outputId": "58d11c6d-b0c6-43b8-9b53-5db5495509b5",
        "colab": {
          "base_uri": "https://localhost:8080/"
        }
      },
      "execution_count": 19,
      "outputs": [
        {
          "output_type": "stream",
          "name": "stdout",
          "text": [
            "loss =  0.6205897927284241\n",
            "accuracy =  0.9021905064582825\n"
          ]
        }
      ]
    },
    {
      "cell_type": "markdown",
      "source": [
        "**Plottiing the confusion matrix**"
      ],
      "metadata": {
        "id": "IqwlsRz_ZJER"
      }
    },
    {
      "cell_type": "code",
      "source": [
        "def plot_confusion_matrix(cm, classes,\n",
        "                          normalize=False,\n",
        "                          title='Confusion matrix',\n",
        "                          cmap=plt.cm.Blues):\n",
        "    plt.imshow(cm, interpolation='nearest', cmap=cmap)\n",
        "    plt.title(title)\n",
        "    plt.colorbar()\n",
        "    tick_marks = np.arange(len(classes))\n",
        "    plt.xticks(tick_marks, classes, rotation=45)\n",
        "    plt.yticks(tick_marks, classes)\n",
        "    if normalize:\n",
        "        cm = cm.astype('float') / cm.sum(axis=1)[:, np.newaxis]\n",
        "\n",
        "    thresh = cm.max() / 2.\n",
        "    for i, j in itertools.product(range(cm.shape[0]), range(cm.shape[1])):\n",
        "        plt.text(j, i, cm[i, j],\n",
        "                 horizontalalignment=\"center\",\n",
        "                 color=\"white\" if cm[i, j] > thresh else \"black\")\n",
        "\n",
        "    plt.tight_layout()\n",
        "    plt.ylabel('True label')\n",
        "    plt.xlabel('Predicted label')\n",
        "\n",
        "y_pred = model.predict(X_test)\n",
        "y_pred_classes = np.argmax(y_pred,axis = 1)\n",
        "confusion_mtx = confusion_matrix(Y_test, y_pred_classes)\n",
        "plot_confusion_matrix(confusion_mtx, classes = range(2))"
      ],
      "metadata": {
        "execution": {
          "iopub.status.busy": "2023-03-01T15:55:50.247633Z",
          "iopub.execute_input": "2023-03-01T15:55:50.247958Z",
          "iopub.status.idle": "2023-03-01T15:55:52.013768Z",
          "shell.execute_reply.started": "2023-03-01T15:55:50.247907Z",
          "shell.execute_reply": "2023-03-01T15:55:52.012641Z"
        },
        "trusted": true,
        "id": "emU-k-0aZJER",
        "outputId": "d4580bcc-2830-4b38-c249-8a6f2d59de6b",
        "colab": {
          "base_uri": "https://localhost:8080/",
          "height": 523
        }
      },
      "execution_count": 20,
      "outputs": [
        {
          "output_type": "stream",
          "name": "stdout",
          "text": [
            "62/62 [==============================] - 1s 10ms/step\n"
          ]
        },
        {
          "output_type": "display_data",
          "data": {
            "text/plain": [
              "<Figure size 640x480 with 2 Axes>"
            ],
            "image/png": "[encoded data removed]"
          },
          "metadata": {}
        }
      ]
    },
    {
      "cell_type": "markdown",
      "source": [
        "# Model Test"
      ],
      "metadata": {
        "id": "lcTMC4DVZJES"
      }
    },
    {
      "cell_type": "code",
      "source": [
        "sample = ['Meetings: Air crew is so dumb.']\n",
        "sample = tokenizer.texts_to_sequences(sample)\n",
        "sample = pad_sequences(sample, maxlen=31, dtype='int32', value=0)\n",
        "print(sample)\n",
        "sentiment = model.predict(sample,batch_size=1,verbose = 2)[0]\n",
        "if(np.argmax(sentiment) == 0):\n",
        "    print(\"negative\")\n",
        "elif (np.argmax(sentiment) == 1):\n",
        "    print(\"positive\")"
      ],
      "metadata": {
        "execution": {
          "iopub.status.busy": "2023-03-01T15:55:52.020432Z",
          "iopub.execute_input": "2023-03-01T15:55:52.023947Z",
          "iopub.status.idle": "2023-03-01T15:55:52.08716Z",
          "shell.execute_reply.started": "2023-03-01T15:55:52.023844Z",
          "shell.execute_reply": "2023-03-01T15:55:52.085865Z"
        },
        "trusted": true,
        "id": "PJhgkyLLZJES",
        "outputId": "9b335d80-2226-40b4-89d9-f5021923a154",
        "colab": {
          "base_uri": "https://localhost:8080/"
        }
      },
      "execution_count": 21,
      "outputs": [
        {
          "output_type": "stream",
          "name": "stdout",
          "text": [
            "[[   0    0    0    0    0    0    0    0    0    0    0    0    0    0\n",
            "     0    0    0    0    0    0    0    0    0    0    0 2030  237  147\n",
            "    11   40 2049]]\n",
            "1/1 - 0s - 88ms/epoch - 88ms/step\n",
            "negative\n"
          ]
        }
      ]
    },
    {
      "cell_type": "code",
      "source": [
        "# prompt: save and downlowad model into google drive\n",
        "\n",
        "from google.colab import drive\n",
        "drive.mount('/content/gdrive')\n",
        "\n",
        "# Change the directory to your desired location in Google Drive\n",
        "model_save_path = '/content/gdrive/My Drive/Colab Notebooks/my_model.h5'\n",
        "model.save(model_save_path)\n",
        "\n",
        "# Download the model file\n",
        "from google.colab import files\n",
        "files.download(model_save_path)\n"
      ],
      "metadata": {
        "id": "Bm6tK-9Ab1Dl",
        "outputId": "4e2d5485-efe6-495b-a27e-178eb5832c18",
        "colab": {
          "base_uri": "https://localhost:8080/",
          "height": 89
        }
      },
      "execution_count": 22,
      "outputs": [
        {
          "output_type": "stream",
          "name": "stdout",
          "text": [
            "Mounted at /content/gdrive\n"
          ]
        },
        {
          "output_type": "stream",
          "name": "stderr",
          "text": [
            "/usr/local/lib/python3.10/dist-packages/keras/src/engine/training.py:3103: UserWarning: You are saving your model as an HDF5 file via `model.save()`. This file format is considered legacy. We recommend using instead the native Keras format, e.g. `model.save('my_model.keras')`.\n",
            "  saving_api.save_model(\n"
          ]
        },
        {
          "output_type": "display_data",
          "data": {
            "text/plain": [
              "<IPython.core.display.Javascript object>"
            ],
            "application/javascript": [
              "\n",
              "    async function download(id, filename, size) {\n",
              "      if (!google.colab.kernel.accessAllowed) {\n",
              "        return;\n",
              "      }\n",
              "      const div = document.createElement('div');\n",
              "      const label = document.createElement('label');\n",
              "      label.textContent = `Downloading \"${filename}\": `;\n",
              "      div.appendChild(label);\n",
              "      const progress = document.createElement('progress');\n",
              "      progress.max = size;\n",
              "      div.appendChild(progress);\n",
              "      document.body.appendChild(div);\n",
              "\n",
              "      const buffers = [];\n",
              "      let downloaded = 0;\n",
              "\n",
              "      const channel = await google.colab.kernel.comms.open(id);\n",
              "      // Send a message to notify the kernel that we're ready.\n",
              "      channel.send({})\n",
              "\n",
              "      for await (const message of channel.messages) {\n",
              "        // Send a message to notify the kernel that we're ready.\n",
              "        channel.send({})\n",
              "        if (message.buffers) {\n",
              "          for (const buffer of message.buffers) {\n",
              "            buffers.push(buffer);\n",
              "            downloaded += buffer.byteLength;\n",
              "            progress.value = downloaded;\n",
              "          }\n",
              "        }\n",
              "      }\n",
              "      const blob = new Blob(buffers, {type: 'application/binary'});\n",
              "      const a = document.createElement('a');\n",
              "      a.href = window.URL.createObjectURL(blob);\n",
              "      a.download = filename;\n",
              "      div.appendChild(a);\n",
              "      a.click();\n",
              "      div.remove();\n",
              "    }\n",
              "  "
            ]
          },
          "metadata": {}
        },
        {
          "output_type": "display_data",
          "data": {
            "text/plain": [
              "<IPython.core.display.Javascript object>"
            ],
            "application/javascript": [
              "download(\"download_e17896b8-25d9-4681-b000-fd5b3f6c1ee4\", \"my_model.h5\", 9486960)"
            ]
          },
          "metadata": {}
        }
      ]
    },
    {
      "cell_type": "code",
      "source": [
        "# prompt: make a streamlit application that take input text and then perform sentement analysis\n",
        "\n",
        "%%writefile app.py\n",
        "import streamlit as st\n",
        "import tensorflow as tf\n",
        "from keras.preprocessing.text import Tokenizer\n",
        "from keras.preprocessing.sequence import pad_sequences\n",
        "import numpy as np\n",
        "\n",
        "# Load the saved model\n",
        "model_path = 'my_model.h5'  # Update with your actual model path\n",
        "model = tf.keras.models.load_model(model_path)\n",
        "\n",
        "# Initialize the tokenizer (assuming same parameters as during training)\n",
        "max_fatures = 4000\n",
        "tokenizer = Tokenizer(num_words=max_fatures, split=' ')\n",
        "# You need to fit the tokenizer on the same data as during training\n",
        "# If you don't have that data readily available, you might need to\n",
        "# load a saved tokenizer or re-fit on a representative dataset.\n",
        "\n",
        "# Streamlit app\n",
        "st.title(\"Airline Sentiment Analysis\")\n",
        "\n",
        "user_input = st.text_area(\"Enter your tweet about an airline:\")\n",
        "\n",
        "if st.button(\"Analyze\"):\n",
        "    if user_input:\n",
        "        # Preprocess the input text\n",
        "        sample = tokenizer.texts_to_sequences([user_input])\n",
        "        sample = pad_sequences(sample, maxlen=31, dtype='int32', value=0)\n",
        "\n",
        "        # Predict sentiment\n",
        "        sentiment = model.predict(sample, batch_size=1, verbose=0)[0]\n",
        "        predicted_class = np.argmax(sentiment)\n",
        "\n",
        "        if predicted_class == 0:\n",
        "            st.write(\"Sentiment: Negative\")\n",
        "        elif predicted_class == 1:\n",
        "            st.write(\"Sentiment: Positive\")\n",
        "    else:\n",
        "        st.write(\"Please enter some text.\")\n",
        "\n",
        "!streamlit run app.py\n"
      ],
      "metadata": {
        "id": "GMFTQMWwceVN",
        "outputId": "8c841e26-d61a-4bd3-e915-797e5b555e98",
        "colab": {
          "base_uri": "https://localhost:8080/"
        }
      },
      "execution_count": 23,
      "outputs": [
        {
          "output_type": "stream",
          "name": "stdout",
          "text": [
            "Writing app.py\n"
          ]
        }
      ]
    },
    {
      "cell_type": "code",
      "source": [
        "# prompt: how to run application\n",
        "\n",
        "!streamlit run app.py\n"
      ],
      "metadata": {
        "id": "b70-OzNXdGP8",
        "outputId": "dfc2c340-be17-42b3-bbe6-c9e5e540bca4",
        "colab": {
          "base_uri": "https://localhost:8080/"
        }
      },
      "execution_count": 24,
      "outputs": [
        {
          "output_type": "stream",
          "name": "stdout",
          "text": [
            "/bin/bash: line 1: streamlit: command not found\n"
          ]
        }
      ]
    },
    {
      "cell_type": "code",
      "source": [
        "\n"
      ],
      "metadata": {
        "id": "-rHCRI7wc9L3"
      },
      "execution_count": null,
      "outputs": []
    }
  ]
}